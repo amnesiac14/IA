{
  "nbformat": 4,
  "nbformat_minor": 0,
  "metadata": {
    "colab": {
      "provenance": [],
      "authorship_tag": "ABX9TyNWtfPEk+14ws6b/jEEETFM",
      "include_colab_link": true
    },
    "kernelspec": {
      "name": "python3",
      "display_name": "Python 3"
    },
    "language_info": {
      "name": "python"
    }
  },
  "cells": [
    {
      "cell_type": "markdown",
      "metadata": {
        "id": "view-in-github",
        "colab_type": "text"
      },
      "source": [
        "<a href=\"https://colab.research.google.com/github/amnesiac14/IA/blob/main/Tarea_2_McCulloch_Pitts_(NOT).ipynb\" target=\"_parent\"><img src=\"https://colab.research.google.com/assets/colab-badge.svg\" alt=\"Open In Colab\"/></a>"
      ]
    },
    {
      "cell_type": "markdown",
      "source": [
        "# Neurona de McCullock-Pitts: Ejemplo de Operación Lógica OR"
      ],
      "metadata": {
        "id": "QAmrp6ndgRAg"
      }
    },
    {
      "cell_type": "markdown",
      "source": [
        "Esta neurona toma los dos casos posibles de la tabla de verdad de una operación lógica NOT. Similar al caso de la operación lógica OR, tenemos que se definen los pesos, se realiza una combinación lineal entre estos y las entradas posibes de cada caso. Sin embargo, para cada caso, solo tenemos una entrada, por ende, un solo peso en cada caso.\n",
        "Se define el umbral, y a partir de este se activará la neurona o no, completando la operación lógica"
      ],
      "metadata": {
        "id": "4zTDJP5tiVlc"
      }
    },
    {
      "cell_type": "markdown",
      "source": [
        "Declaración de elementos"
      ],
      "metadata": {
        "id": "v-3xAUxJ70zI"
      }
    },
    {
      "cell_type": "code",
      "source": [
        "import numpy as np\n",
        "# Entradas para la neurona\n",
        "\n",
        "## NOT\n",
        "\n",
        "# Entradas para la neurona\n",
        "X_NOT = np.array([[1],[0]])\n",
        "\n",
        "# Salidas para la Neurona\n",
        "Y_NOT = np.array([0,1])\n",
        "\n",
        "# Pesos\n",
        "W_NOT = np.array([-1])\n",
        "\n",
        "umbral = 0"
      ],
      "metadata": {
        "id": "NOXYNkRJ7aJ7"
      },
      "execution_count": 29,
      "outputs": []
    },
    {
      "cell_type": "markdown",
      "source": [
        "Neurona McCullock-Pitts"
      ],
      "metadata": {
        "id": "y5mONQAU91KV"
      }
    },
    {
      "cell_type": "code",
      "source": [
        "class McCullochPitts:\n",
        "    def __init__(self, weights, umbral):\n",
        "        \"\"\"\n",
        "            Constructor de la neurona MCP.\n",
        "            Guarda las variables\n",
        "            weights -> vector de pesos iniciales\n",
        "            umbral -> umbral para usar en la funcion de activación\n",
        "        \"\"\"\n",
        "        self.weights = weights\n",
        "        self.umbral = umbral\n",
        "\n",
        "    def predict(self, X):\n",
        "        \"\"\"\n",
        "            Calcula la salida de la neurona para cada fila de entradas X.\n",
        "        \"\"\"\n",
        "        # Lista donde se guardarán las salidas\n",
        "        predictions = []\n",
        "        # Recorremos cada fila de entradas\n",
        "        for i in range(X.shape[0]):\n",
        "            # Calculamos la suma ponderada: w1*x1 + w2*x2\n",
        "            weighted_sum = np.dot(self.weights, X[i])\n",
        "            # Mostramos en consola la entrada y la suma ponderada\n",
        "            print(f\"Input: {X[i]}, Weighted Sum: {weighted_sum}\")\n",
        "            # Comparación con el umbral determinar si la neurona se activa o no\n",
        "            if weighted_sum >= self.umbral:\n",
        "                predictions.append(1)\n",
        "            else:\n",
        "                predictions.append(0)\n",
        "        return predictions"
      ],
      "metadata": {
        "id": "PYx94D2Idv2R"
      },
      "execution_count": 30,
      "outputs": []
    },
    {
      "cell_type": "code",
      "source": [
        "# Instanciamos la clase McCullochPitts\n",
        "mcp_not = McCullochPitts(W_NOT, umbral)\n",
        "# Calculamos las predicciones\n",
        "predictions = mcp_not.predict(X_NOT)\n",
        "# Mostramos el resultado final\n",
        "print(\"Predictions:\", predictions)"
      ],
      "metadata": {
        "colab": {
          "base_uri": "https://localhost:8080/"
        },
        "id": "M-Hbuor79Usa",
        "outputId": "2030274c-b350-45ab-f047-dcec369a44dc"
      },
      "execution_count": 31,
      "outputs": [
        {
          "output_type": "stream",
          "name": "stdout",
          "text": [
            "Input: [1], Weighted Sum: -1\n",
            "Input: [0], Weighted Sum: 0\n",
            "Predictions: [0, 1]\n"
          ]
        }
      ]
    }
  ]
}