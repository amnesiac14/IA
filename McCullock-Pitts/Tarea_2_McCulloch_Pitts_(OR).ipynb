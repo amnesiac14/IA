{
  "nbformat": 4,
  "nbformat_minor": 0,
  "metadata": {
    "colab": {
      "provenance": [],
      "include_colab_link": true
    },
    "kernelspec": {
      "name": "python3",
      "display_name": "Python 3"
    },
    "language_info": {
      "name": "python"
    }
  },
  "cells": [
    {
      "cell_type": "markdown",
      "metadata": {
        "id": "view-in-github",
        "colab_type": "text"
      },
      "source": [
        "<a href=\"https://colab.research.google.com/github/amnesiac14/IA/blob/main/Tarea_2_McCulloch_Pitts_(OR).ipynb\" target=\"_parent\"><img src=\"https://colab.research.google.com/assets/colab-badge.svg\" alt=\"Open In Colab\"/></a>"
      ]
    },
    {
      "cell_type": "markdown",
      "source": [
        "# Neurona de McCullock-Pitts: Operación Lógica OR"
      ],
      "metadata": {
        "id": "QAmrp6ndgRAg"
      }
    },
    {
      "cell_type": "markdown",
      "source": [
        "En esta neurona, tomamos los valores posibles de entrada ($x_1$ y $x_2$) de cada fila de la tabla de verdad de dos proposiciones para la operación lógica OR.\n",
        "  Esta operación está basada en datos binarios (V o F) por lo que, al conocer la salida real o esperada de esta operación, podemos definir un umbral para poder activar la neurona o no.\n",
        "\n",
        "  Se definen los pesos de cada entrada en cada caso respectivo de la tabla de verdad, se realiza la combinación lineal de estos y posteriormente se compara este resultado con el umbral, lo cual provoca que la neurona se active o no"
      ],
      "metadata": {
        "id": "de55pD7hzWgo"
      }
    },
    {
      "cell_type": "markdown",
      "source": [
        "Declaración de elementos"
      ],
      "metadata": {
        "id": "v-3xAUxJ70zI"
      }
    },
    {
      "cell_type": "code",
      "source": [
        "import numpy as np\n",
        "# Entradas para la neurona\n",
        "\n",
        "## OR\n",
        "X_OR = np.array([\n",
        "    [0, 0],\n",
        "    [0, 1],\n",
        "    [1, 0],\n",
        "    [1, 1]\n",
        "])\n",
        "\n",
        "# Salidas para la Neurona\n",
        "Y_OR = np.array([0, 1, 1, 1])\n",
        "\n",
        "\n",
        "# Pesos\n",
        "W_OR = np.array([1, 2])\n",
        "\n",
        "umbral = 1"
      ],
      "metadata": {
        "id": "NOXYNkRJ7aJ7"
      },
      "execution_count": null,
      "outputs": []
    },
    {
      "cell_type": "markdown",
      "source": [
        "Neurona"
      ],
      "metadata": {
        "id": "y5mONQAU91KV"
      }
    },
    {
      "cell_type": "code",
      "source": [
        "class McCullochPitts:\n",
        "    def __init__(self, weights, umbral):\n",
        "        \"\"\"\n",
        "            Constructor de la neurona MCP.\n",
        "            Guarda las variables\n",
        "            weights -> vector de pesos iniciales\n",
        "            umbral -> umbral para usar en la funcion de activación\n",
        "        \"\"\"\n",
        "        self.weights = weights\n",
        "        self.umbral = umbral\n",
        "\n",
        "    def predict(self, X):\n",
        "        \"\"\"\n",
        "            Calcula la salida de la neurona para cada fila de entradas X.\n",
        "        \"\"\"\n",
        "        # Lista donde se guardarán las salidas\n",
        "        predictions = []\n",
        "        # Recorremos cada fila de entradas\n",
        "        for i in range(X.shape[0]):\n",
        "            # Calculamos la suma ponderada: w1*x1 + w2*x2\n",
        "            weighted_sum = np.dot(self.weights, X[i])\n",
        "            # Mostramos en consola la entrada y la suma ponderada\n",
        "            print(f\"Input: {X[i]}, Weighted Sum: {weighted_sum}\")\n",
        "            # Comparación con el umbral determinar si la neurona se activa o no\n",
        "            if weighted_sum >= self.umbral:\n",
        "                predictions.append(1)\n",
        "            else:\n",
        "                predictions.append(0)\n",
        "        return predictions"
      ],
      "metadata": {
        "id": "PYx94D2Idv2R"
      },
      "execution_count": null,
      "outputs": []
    },
    {
      "cell_type": "code",
      "source": [
        "# Instanciamos la clase McCullochPitts\n",
        "mcp_or = McCullochPitts(W_OR, umbral)\n",
        "# Calculamos las predicciones\n",
        "predictions = mcp_or.predict(X_OR)\n",
        "# Mostramos el resultado final\n",
        "print(\"Predictions:\", predictions)"
      ],
      "metadata": {
        "colab": {
          "base_uri": "https://localhost:8080/"
        },
        "id": "fi29NtXnf6Oo",
        "outputId": "fdf55131-6d00-4267-bdca-fc2e5dba94a3"
      },
      "execution_count": null,
      "outputs": [
        {
          "output_type": "stream",
          "name": "stdout",
          "text": [
            "Input: [0 0], Weighted Sum: 0\n",
            "Input: [0 1], Weighted Sum: 2\n",
            "Input: [1 0], Weighted Sum: 1\n",
            "Input: [1 1], Weighted Sum: 3\n",
            "Predictions: [0, 1, 1, 1]\n"
          ]
        }
      ]
    }
  ]
}
